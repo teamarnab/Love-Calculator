{
 "cells": [
  {
   "cell_type": "code",
   "execution_count": 1,
   "id": "30b55f79",
   "metadata": {},
   "outputs": [],
   "source": [
    "#Love Calculator\n",
    "\n",
    "'''\n",
    "PROBLEM STATEMENT\n",
    "-----------------\n",
    "Create a love calculator using Python coding that takes two names (his name and her name) as input \n",
    "and compare each letter present in both the names to see if the letter is present in the word \"True Love\".\n",
    "If present the count would go up by 1 and if not the count remain unchanged.\n",
    "\n",
    "Steps used\n",
    "----------------\n",
    "1. Creating a variable with the word 'truelove' to refer to and calculate.\n",
    "2. Create two input options to take two names (his and her) and converting to lower case.\n",
    "3. Create a function that will take two names as a input and then inside the function will be a for-loop\n",
    "that will check how many letters in the names are in the word 'TrueLove' if there is a match the count variable\n",
    "will have an increment of 1 if not then no changes to the count variable\n",
    "4. Finally the function will return the count\n",
    "5. print an output statement displaying the result\n",
    "'''"
   ]
  },
  {
   "cell_type": "code",
   "execution_count": 14,
   "id": "708d0508",
   "metadata": {},
   "outputs": [
    {
     "name": "stdout",
     "output_type": "stream",
     "text": [
      "Enter Her fullname: archi chakraborty\n",
      "Enter His fullname: arnab gupta\n",
      "archi chakraborty's and arnab gupta's love count is: 8/10\n"
     ]
    }
   ],
   "source": [
    "#creating a variable to refer to for calculating percentage\n",
    "true_love = 'truelove'\n",
    "\n",
    "#input for her name and assign to a variable after converting into lower case\n",
    "her_name = input(\"Enter Her fullname: \").lower() \n",
    "\n",
    "#input for his name and assign to a variable after converting into lower case\n",
    "his_name = input(\"Enter His fullname: \").lower()\n",
    "\n",
    "#creating a function for caluculating percentage by seeing how many letters of the name is in true love\n",
    "def count_love(name1, name2):   # function takes two names as input\n",
    "    love_count = 0              # a count variable innitalized with 0\n",
    "    for letter in name1:        # a for loop to check if each letter is present in the word 'true love'\n",
    "        if letter in true_love:\n",
    "            love_count += 1     # if letter is present count increases by one\n",
    "    for letter in name2:        # a for loop to check if each letter is present in the word 'true love'\n",
    "        if letter in true_love: \n",
    "            love_count += 1     # if letter is present count increases by one\n",
    "    \n",
    "    return love_count           # function returns count\n",
    "\n",
    "\n",
    "\n",
    "#assigning the result of the function to a variable\n",
    "count = str(count_love(her_name, his_name))\n",
    "\n",
    "\n",
    "\n",
    "# output display statement showing result\n",
    "print(her_name + \"'s and \" + his_name + \"'s love count is: \" + count + \"/10\")"
   ]
  },
  {
   "cell_type": "code",
   "execution_count": null,
   "id": "ffe0743c",
   "metadata": {},
   "outputs": [],
   "source": []
  },
  {
   "cell_type": "code",
   "execution_count": null,
   "id": "37e25bea",
   "metadata": {},
   "outputs": [],
   "source": []
  },
  {
   "cell_type": "code",
   "execution_count": null,
   "id": "43b60fc7",
   "metadata": {},
   "outputs": [],
   "source": []
  }
 ],
 "metadata": {
  "kernelspec": {
   "display_name": "Python 3 (ipykernel)",
   "language": "python",
   "name": "python3"
  },
  "language_info": {
   "codemirror_mode": {
    "name": "ipython",
    "version": 3
   },
   "file_extension": ".py",
   "mimetype": "text/x-python",
   "name": "python",
   "nbconvert_exporter": "python",
   "pygments_lexer": "ipython3",
   "version": "3.11.7"
  }
 },
 "nbformat": 4,
 "nbformat_minor": 5
}
